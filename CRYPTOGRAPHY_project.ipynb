{
  "nbformat": 4,
  "nbformat_minor": 0,
  "metadata": {
    "colab": {
      "name": "CRYPTOGRAPHY_project.ipynb",
      "provenance": []
    },
    "kernelspec": {
      "name": "python3",
      "display_name": "Python 3"
    }
  },
  "cells": [
    {
      "cell_type": "markdown",
      "metadata": {
        "id": "KD2o2yWaNIH0"
      },
      "source": [
        "**COMMUINCATION** SECURITY THROUGH VARIOUS LAYERS OF CIPHERS"
      ]
    },
    {
      "cell_type": "code",
      "metadata": {
        "colab": {
          "base_uri": "https://localhost:8080/",
          "height": 53
        },
        "id": "pfyM47ZnND6V",
        "outputId": "acb9a083-b521-49d0-d289-6195da2789e8"
      },
      "source": [
        "def processing(mode, text, key):\r\n",
        "    key_ints = [ord(i) for i in key]\r\n",
        "    text_ints = [ord(i) for i in text]\r\n",
        "    finished_text = \"\"\r\n",
        "    for i in range(len(text_ints)):\r\n",
        "        adder = key_ints[i % len(key)]\r\n",
        "        if mode == 1:\r\n",
        "            adder *= -1\r\n",
        "        char = (text_ints[i] - 32 + adder) % 95\r\n",
        "        finished_text += chr(char + 32)\r\n",
        "    return finished_text\r\n",
        "\r\n",
        "\r\n",
        "\r\n",
        "\"\"\" WAIT WAIT !!!\r\n",
        "\r\n",
        "CODE is longer !\r\n",
        "It comprise of more than 200+ line of code \r\n",
        "\r\n",
        "For full code and report, Mail me now at vatshayan007@gmail.com\r\n",
        "\"\"\""
      ],
      "execution_count": 7,
      "outputs": [
        {
          "output_type": "execute_result",
          "data": {
            "application/vnd.google.colaboratory.intrinsic+json": {
              "type": "string"
            },
            "text/plain": [
              "' WAIT WAIT !!!\\n\\nCODE is longer !\\nIt comprise of more than 200+ line of code \\n\\nFor full code and report, Mail me now at vatshayan007@gmail.com\\n'"
            ]
          },
          "metadata": {
            "tags": []
          },
          "execution_count": 7
        }
      ]
    },
    {
      "cell_type": "markdown",
      "metadata": {
        "id": "gRF37pVvONdG"
      },
      "source": [
        "\"\"\" WAIT WAIT !!!\r\n",
        "\r\n",
        "CODE is longer !\r\n",
        "It comprise of more than 200+ line of code \r\n",
        "\r\n",
        "For full code and report, Mail me now at vatshayan007@gmail.com\r\n",
        "\"\"\""
      ]
    },
    {
      "cell_type": "code",
      "metadata": {
        "id": "LPwXAeVCOKkB"
      },
      "source": [
        ""
      ],
      "execution_count": null,
      "outputs": []
    }
  ]
}